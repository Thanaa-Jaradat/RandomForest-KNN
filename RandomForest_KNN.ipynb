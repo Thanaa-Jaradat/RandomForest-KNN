{
 "cells": [
  {
   "cell_type": "code",
   "execution_count": 2,
   "metadata": {
    "pycharm": {
     "name": "#%%\n"
    },
    "scrolled": false
   },
   "outputs": [
    {
     "name": "stdout",
     "output_type": "stream",
     "text": [
      "      zeros\n",
      "Preg    111\n",
      "Plas      5\n",
      "Pres     35\n",
      "skin    227\n",
      "test    374\n",
      "mass     11\n"
     ]
    },
    {
     "data": {
      "text/html": [
       "<div>\n",
       "<style scoped>\n",
       "    .dataframe tbody tr th:only-of-type {\n",
       "        vertical-align: middle;\n",
       "    }\n",
       "\n",
       "    .dataframe tbody tr th {\n",
       "        vertical-align: top;\n",
       "    }\n",
       "\n",
       "    .dataframe thead th {\n",
       "        text-align: right;\n",
       "    }\n",
       "</style>\n",
       "<table border=\"1\" class=\"dataframe\">\n",
       "  <thead>\n",
       "    <tr style=\"text-align: right;\">\n",
       "      <th></th>\n",
       "      <th>Preg</th>\n",
       "      <th>Plas</th>\n",
       "      <th>Pres</th>\n",
       "      <th>skin</th>\n",
       "      <th>test</th>\n",
       "      <th>mass</th>\n",
       "      <th>pedi</th>\n",
       "      <th>age</th>\n",
       "      <th>class</th>\n",
       "    </tr>\n",
       "  </thead>\n",
       "  <tbody>\n",
       "    <tr>\n",
       "      <th>count</th>\n",
       "      <td>768.000000</td>\n",
       "      <td>768.000000</td>\n",
       "      <td>768.000000</td>\n",
       "      <td>768.000000</td>\n",
       "      <td>768.00000</td>\n",
       "      <td>768.000000</td>\n",
       "      <td>768.000000</td>\n",
       "      <td>768.000000</td>\n",
       "      <td>768.000000</td>\n",
       "    </tr>\n",
       "    <tr>\n",
       "      <th>mean</th>\n",
       "      <td>4.423177</td>\n",
       "      <td>121.682292</td>\n",
       "      <td>72.386719</td>\n",
       "      <td>29.108073</td>\n",
       "      <td>155.28125</td>\n",
       "      <td>32.450911</td>\n",
       "      <td>0.471876</td>\n",
       "      <td>33.240885</td>\n",
       "      <td>0.348958</td>\n",
       "    </tr>\n",
       "    <tr>\n",
       "      <th>std</th>\n",
       "      <td>2.980481</td>\n",
       "      <td>30.435999</td>\n",
       "      <td>12.096642</td>\n",
       "      <td>8.791221</td>\n",
       "      <td>85.02155</td>\n",
       "      <td>6.875366</td>\n",
       "      <td>0.331329</td>\n",
       "      <td>11.760232</td>\n",
       "      <td>0.476951</td>\n",
       "    </tr>\n",
       "    <tr>\n",
       "      <th>min</th>\n",
       "      <td>1.000000</td>\n",
       "      <td>44.000000</td>\n",
       "      <td>24.000000</td>\n",
       "      <td>7.000000</td>\n",
       "      <td>14.00000</td>\n",
       "      <td>18.200000</td>\n",
       "      <td>0.078000</td>\n",
       "      <td>21.000000</td>\n",
       "      <td>0.000000</td>\n",
       "    </tr>\n",
       "    <tr>\n",
       "      <th>25%</th>\n",
       "      <td>2.000000</td>\n",
       "      <td>99.750000</td>\n",
       "      <td>64.000000</td>\n",
       "      <td>25.000000</td>\n",
       "      <td>121.50000</td>\n",
       "      <td>27.500000</td>\n",
       "      <td>0.243750</td>\n",
       "      <td>24.000000</td>\n",
       "      <td>0.000000</td>\n",
       "    </tr>\n",
       "    <tr>\n",
       "      <th>50%</th>\n",
       "      <td>4.000000</td>\n",
       "      <td>117.000000</td>\n",
       "      <td>72.000000</td>\n",
       "      <td>29.000000</td>\n",
       "      <td>155.00000</td>\n",
       "      <td>32.000000</td>\n",
       "      <td>0.372500</td>\n",
       "      <td>29.000000</td>\n",
       "      <td>0.000000</td>\n",
       "    </tr>\n",
       "    <tr>\n",
       "      <th>75%</th>\n",
       "      <td>6.000000</td>\n",
       "      <td>140.250000</td>\n",
       "      <td>80.000000</td>\n",
       "      <td>32.000000</td>\n",
       "      <td>155.00000</td>\n",
       "      <td>36.600000</td>\n",
       "      <td>0.626250</td>\n",
       "      <td>41.000000</td>\n",
       "      <td>1.000000</td>\n",
       "    </tr>\n",
       "    <tr>\n",
       "      <th>max</th>\n",
       "      <td>17.000000</td>\n",
       "      <td>199.000000</td>\n",
       "      <td>122.000000</td>\n",
       "      <td>99.000000</td>\n",
       "      <td>846.00000</td>\n",
       "      <td>67.100000</td>\n",
       "      <td>2.420000</td>\n",
       "      <td>81.000000</td>\n",
       "      <td>1.000000</td>\n",
       "    </tr>\n",
       "  </tbody>\n",
       "</table>\n",
       "</div>"
      ],
      "text/plain": [
       "             Preg        Plas        Pres        skin       test        mass  \\\n",
       "count  768.000000  768.000000  768.000000  768.000000  768.00000  768.000000   \n",
       "mean     4.423177  121.682292   72.386719   29.108073  155.28125   32.450911   \n",
       "std      2.980481   30.435999   12.096642    8.791221   85.02155    6.875366   \n",
       "min      1.000000   44.000000   24.000000    7.000000   14.00000   18.200000   \n",
       "25%      2.000000   99.750000   64.000000   25.000000  121.50000   27.500000   \n",
       "50%      4.000000  117.000000   72.000000   29.000000  155.00000   32.000000   \n",
       "75%      6.000000  140.250000   80.000000   32.000000  155.00000   36.600000   \n",
       "max     17.000000  199.000000  122.000000   99.000000  846.00000   67.100000   \n",
       "\n",
       "             pedi         age       class  \n",
       "count  768.000000  768.000000  768.000000  \n",
       "mean     0.471876   33.240885    0.348958  \n",
       "std      0.331329   11.760232    0.476951  \n",
       "min      0.078000   21.000000    0.000000  \n",
       "25%      0.243750   24.000000    0.000000  \n",
       "50%      0.372500   29.000000    0.000000  \n",
       "75%      0.626250   41.000000    1.000000  \n",
       "max      2.420000   81.000000    1.000000  "
      ]
     },
     "execution_count": 2,
     "metadata": {},
     "output_type": "execute_result"
    }
   ],
   "source": [
    "import pandas as pd\n",
    "import seaborn as sns\n",
    "import matplotlib.pyplot as plt\n",
    "import numpy as np\n",
    "import sklearn as sl\n",
    "from sklearn.neighbors import KNeighborsClassifier\n",
    "from sklearn.model_selection import train_test_split\n",
    "from sklearn.ensemble import RandomForestClassifier\n",
    "from sklearn import metrics\n",
    "from matplotlib.colors import ListedColormap\n",
    "df = pd.read_csv('pima-indians-diabetes.csv', encoding='utf-8')\n",
    "# I ran print(df.duplicated().sum()) to find if there were any duplicates... but there isn't\n",
    "columns = ['Preg', 'Plas', 'Pres', 'skin', 'test', 'mass']\n",
    "val = []\n",
    "# finding number of zeros in each column\n",
    "#if for example I had a 0 value in skin column, it wouldn't make any sense\n",
    "for column in columns:\n",
    "      val.append(len(df[df[column] == 0]))\n",
    "zeros = pd.DataFrame(val, index = columns, columns = ['zeros'])\n",
    "print(zeros)\n",
    "#replacing zero values with mean value\n",
    "for column in columns:\n",
    "    df[column] = df[column].replace(0,np.NaN)\n",
    "    mean = int(df[column].mean(skipna = True))\n",
    "    df[column] = df[column].replace(np.NaN, mean)\n",
    "df.describe()"
   ]
  },
  {
   "cell_type": "markdown",
   "metadata": {},
   "source": [
    "Outliers Detection"
   ]
  },
  {
   "cell_type": "code",
   "execution_count": 12,
   "metadata": {
    "scrolled": true
   },
   "outputs": [
    {
     "data": {
      "text/plain": [
       "<AxesSubplot:>"
      ]
     },
     "execution_count": 12,
     "metadata": {},
     "output_type": "execute_result"
    },
    {
     "data": {
      "image/png": "[encoded data removed]",
      "text/plain": [
       "<Figure size 648x504 with 1 Axes>"
      ]
     },
     "metadata": {
      "needs_background": "light"
     },
     "output_type": "display_data"
    }
   ],
   "source": [
    "plt.figure(figsize=(9,7))\n",
    "sns.boxplot(data=df)"
   ]
  },
  {
   "cell_type": "markdown",
   "metadata": {},
   "source": [
    "Finding if there is a correlation between 'test' and 'class' columns"
   ]
  },
  {
   "cell_type": "code",
   "execution_count": 13,
   "metadata": {
    "ExecuteTime": {
     "end_time": "2025-06-22T00:28:01.997628Z",
     "start_time": "2025-06-22T00:28:01.178714Z"
    }
   },
   "outputs": [
    {
     "data": {
      "text/plain": [
       "<AxesSubplot:xlabel='class', ylabel='test'>"
      ]
     },
     "execution_count": 13,
     "metadata": {},
     "output_type": "execute_result"
    },
    {
     "data": {
      "image/png": "[encoded data removed]",
      "text/plain": [
       "<Figure size 360x360 with 1 Axes>"
      ]
     },
     "metadata": {
      "needs_background": "light"
     },
     "output_type": "display_data"
    }
   ],
   "source": [
    "plt.figure(figsize = (5, 5))\n",
    "sns.stripplot(y = 'test', data = df, x = 'class')"
   ]
  },
  {
   "cell_type": "markdown",
   "metadata": {},
   "source": [
    "Detecting and removing outliers using z-score"
   ]
  },
  {
   "cell_type": "code",
   "execution_count": 14,
   "metadata": {},
   "outputs": [],
   "source": [
    "from scipy import stats\n",
    "z = np.abs(stats.zscore(df['test']))"
   ]
  },
  {
   "cell_type": "code",
   "execution_count": 15,
   "metadata": {},
   "outputs": [
    {
     "name": "stdout",
     "output_type": "stream",
     "text": [
      "749\n"
     ]
    }
   ],
   "source": [
    "threshold = 3\n",
    "# getting the positions of the outliers and dropping the corresponding records\n",
    "i = np.where(z > 3)\n",
    "df.drop(index = i[0], inplace = True)\n",
    "# printing count of total records after dropping outliers\n",
    "print(df.shape[0])\n"
   ]
  },
  {
   "cell_type": "markdown",
   "metadata": {},
   "source": [
    "Splitting the dataset (60% training, 20% validation, 20% testing)"
   ]
  },
  {
   "cell_type": "code",
   "execution_count": 16,
   "metadata": {},
   "outputs": [],
   "source": [
    "x = df[['Preg', 'Plas', 'Pres', 'skin', 'test', 'mass', 'pedi', 'age']]\n",
    "y = df['class']\n",
    "X_train, X_test, y_train, y_test = train_test_split(x, y, test_size=0.2, random_state=2022)\n",
    "X_train, X_val, y_train, y_val = train_test_split(X_train, y_train, test_size=0.25,\n",
    "                                                  random_state=2022) # 0.25 * 0.80 = 0.20\n"
   ]
  },
  {
   "cell_type": "markdown",
   "metadata": {},
   "source": [
    "Feature selection"
   ]
  },
  {
   "cell_type": "code",
   "execution_count": 17,
   "metadata": {},
   "outputs": [
    {
     "data": {
      "image/png": "[encoded data removed]",
      "text/plain": [
       "<Figure size 432x288 with 1 Axes>"
      ]
     },
     "metadata": {
      "needs_background": "light"
     },
     "output_type": "display_data"
    }
   ],
   "source": [
    "feature_names = ['Preg', 'Plas', 'Pres', 'skin', 'test', 'mass', 'pedi', 'age']\n",
    "forest = RandomForestClassifier(random_state=2022)\n",
    "forest.fit(X_train, y_train)\n",
    "importances = forest.feature_importances_\n",
    "std = np.std([tree.feature_importances_ for tree in forest.estimators_], axis=0)\n",
    "forest_importances = pd.Series(importances, index=feature_names)\n",
    "fig, ax = plt.subplots()\n",
    "forest_importances.plot.bar(yerr=std, ax=ax)\n",
    "ax.set_title(\"Feature importances using MDI\")\n",
    "ax.set_ylabel(\"Mean decrease in impurity\")\n",
    "fig.tight_layout()"
   ]
  },
  {
   "cell_type": "markdown",
   "metadata": {},
   "source": [
    "Hence, the best 3 attributes are 'Plas', 'mass', 'age'"
   ]
  },
  {
   "cell_type": "markdown",
   "metadata": {},
   "source": [
    "Finding the best K and printing the confusion matrix of each dataset for each k"
   ]
  },
  {
   "cell_type": "code",
   "execution_count": 18,
   "metadata": {},
   "outputs": [
    {
     "name": "stdout",
     "output_type": "stream",
     "text": [
      "Confusion matrix for k = 1 in training set\t\n",
      "[[287   0]\n",
      " [  0 162]]\n",
      "\n",
      "\n",
      "Confusion matrix for k = 2 in training set\t\n",
      "[[287   0]\n",
      " [ 77  85]]\n",
      "\n",
      "\n",
      "Confusion matrix for k = 3 in training set\t\n",
      "[[257  30]\n",
      " [ 36 126]]\n",
      "\n",
      "\n",
      "Confusion matrix for k = 1 in validation set\t\n",
      "[[72 24]\n",
      " [27 27]]\n",
      "\n",
      "\n",
      "Confusion matrix for k = 2 in validation set\t\n",
      "[[86 10]\n",
      " [41 13]]\n",
      "\n",
      "\n",
      "Confusion matrix for k = 3 in validation set\t\n",
      "[[72 24]\n",
      " [26 28]]\n",
      "\n",
      "\n",
      "Confusion matrix for k = 1 in testing set\t\n",
      "[[79 31]\n",
      " [18 22]]\n",
      "\n",
      "\n",
      "Confusion matrix for k = 2 in testing set\t\n",
      "[[98 12]\n",
      " [25 15]]\n",
      "\n",
      "\n",
      "Confusion matrix for k = 3 in testing set\t\n",
      "[[83 27]\n",
      " [14 26]]\n",
      "\n",
      "\n",
      "[1.0, 0.8285077951002228, 0.8530066815144766]\n",
      "best k for TRAINING at index: 0\n",
      "[0.66, 0.66, 0.6666666666666666]\n",
      "best k for VALIDATING at index: 2\n",
      "[0.6733333333333333, 0.7533333333333333, 0.7266666666666667]\n",
      "best k for TESTING at index: 1\n"
     ]
    }
   ],
   "source": [
    "neighbors = np.arange(1, 4)\n",
    "accuracies_train = []\n",
    "accuracies_val = []\n",
    "accuracies_test = []\n",
    "report_train = []\n",
    "report_val = []\n",
    "report_test = []\n",
    "x_prime = df[['Plas', 'mass', 'age']]\n",
    "X_prime_train, X_prime_test, y_prime_train, y_prime_test = train_test_split(x_prime, y, test_size=0.2, random_state=2022)\n",
    "X_prime_train, X_prime_val, y_prime_train, y_prime_val = train_test_split(X_prime_train, y_prime_train, test_size=0.25,\n",
    "                                                  random_state=2022)\n",
    "# Loop over K values\n",
    "for i, k in enumerate(neighbors):\n",
    "    knn_train = KNeighborsClassifier(n_neighbors=k, metric = 'minkowski')\n",
    "    knn_train.fit(X_prime_train, y_prime_train)\n",
    "    y_predicted = knn_train.predict(X_prime_train)\n",
    "    accuracy = metrics.accuracy_score(y_prime_train, y_predicted)\n",
    "    accuracies_train.append(accuracy)\n",
    "    report = metrics.classification_report(y_prime_train, y_predicted)\n",
    "    report_train.append(report)\n",
    "    print(\"Confusion matrix for k = \" + str(i + 1) + \" in training set\" + \"\\t\")\n",
    "    print(metrics.confusion_matrix(y_prime_train, y_predicted))\n",
    "    print(\"\\n\")\n",
    "\n",
    "for i, k in enumerate(neighbors):\n",
    "    knn_val = KNeighborsClassifier(n_neighbors=k, metric = 'minkowski')\n",
    "    knn_val.fit(X_prime_train, y_prime_train)\n",
    "    y_predicted = knn_val.predict(X_prime_val)\n",
    "    accuracy = metrics.accuracy_score(y_prime_val, y_predicted)\n",
    "    accuracies_val.append(accuracy)\n",
    "    report = metrics.classification_report(y_prime_val, y_predicted)\n",
    "    report_val.append(report)\n",
    "    print(\"Confusion matrix for k = \" + str(i + 1) + \" in validation set\" + \"\\t\")\n",
    "    print(metrics.confusion_matrix(y_prime_val, y_predicted))\n",
    "    print(\"\\n\")\n",
    "\n",
    "for i, k in enumerate(neighbors):\n",
    "    knn_test = KNeighborsClassifier(n_neighbors=k, metric = 'minkowski')\n",
    "    knn_test.fit(X_prime_train, y_prime_train)\n",
    "    y_predicted = knn_test.predict(X_prime_test)\n",
    "    accuracy = metrics.accuracy_score(y_prime_test, y_predicted)\n",
    "    accuracies_test.append(accuracy)\n",
    "    report = metrics.classification_report(y_prime_test, y_predicted)\n",
    "    report_test.append(report)\n",
    "    print(\"Confusion matrix for k = \" + str(i + 1) + \" in testing set\" + \"\\t\")\n",
    "    print(metrics.confusion_matrix(y_prime_test, y_predicted))\n",
    "    print(\"\\n\")\n",
    "    \n",
    "k_max_train = max((accuracies_train))\n",
    "print(accuracies_train)\n",
    "print(\"best k for TRAINING at index: \" + str(accuracies_train.index(k_max_train)))\n",
    "k_max_val = max((accuracies_val))\n",
    "print(accuracies_val)\n",
    "print(\"best k for VALIDATING at index: \" + str(accuracies_val.index(k_max_val)))\n",
    "k_max_test = max((accuracies_test))\n",
    "print(accuracies_test)\n",
    "print(\"best k for TESTING at index: \" + str(accuracies_test.index(k_max_test)))"
   ]
  },
  {
   "cell_type": "markdown",
   "metadata": {},
   "source": [
    "Printing classification report for each k of each dataset"
   ]
  },
  {
   "cell_type": "code",
   "execution_count": 19,
   "metadata": {},
   "outputs": [
    {
     "name": "stdout",
     "output_type": "stream",
     "text": [
      "Printing for each k the corresponding report of each data set\n",
      "              precision    recall  f1-score   support\n",
      "\n",
      "           0       1.00      1.00      1.00       287\n",
      "           1       1.00      1.00      1.00       162\n",
      "\n",
      "    accuracy                           1.00       449\n",
      "   macro avg       1.00      1.00      1.00       449\n",
      "weighted avg       1.00      1.00      1.00       449\n",
      "              precision    recall  f1-score   support\n",
      "\n",
      "           0       0.73      0.75      0.74        96\n",
      "           1       0.53      0.50      0.51        54\n",
      "\n",
      "    accuracy                           0.66       150\n",
      "   macro avg       0.63      0.62      0.63       150\n",
      "weighted avg       0.66      0.66      0.66       150\n",
      "              precision    recall  f1-score   support\n",
      "\n",
      "           0       0.81      0.72      0.76       110\n",
      "           1       0.42      0.55      0.47        40\n",
      "\n",
      "    accuracy                           0.67       150\n",
      "   macro avg       0.61      0.63      0.62       150\n",
      "weighted avg       0.71      0.67      0.69       150\n",
      "\n",
      "              precision    recall  f1-score   support\n",
      "\n",
      "           0       0.79      1.00      0.88       287\n",
      "           1       1.00      0.52      0.69       162\n",
      "\n",
      "    accuracy                           0.83       449\n",
      "   macro avg       0.89      0.76      0.78       449\n",
      "weighted avg       0.86      0.83      0.81       449\n",
      "              precision    recall  f1-score   support\n",
      "\n",
      "           0       0.68      0.90      0.77        96\n",
      "           1       0.57      0.24      0.34        54\n",
      "\n",
      "    accuracy                           0.66       150\n",
      "   macro avg       0.62      0.57      0.55       150\n",
      "weighted avg       0.64      0.66      0.62       150\n",
      "              precision    recall  f1-score   support\n",
      "\n",
      "           0       0.80      0.89      0.84       110\n",
      "           1       0.56      0.38      0.45        40\n",
      "\n",
      "    accuracy                           0.75       150\n",
      "   macro avg       0.68      0.63      0.64       150\n",
      "weighted avg       0.73      0.75      0.74       150\n",
      "\n",
      "              precision    recall  f1-score   support\n",
      "\n",
      "           0       0.88      0.90      0.89       287\n",
      "           1       0.81      0.78      0.79       162\n",
      "\n",
      "    accuracy                           0.85       449\n",
      "   macro avg       0.84      0.84      0.84       449\n",
      "weighted avg       0.85      0.85      0.85       449\n",
      "              precision    recall  f1-score   support\n",
      "\n",
      "           0       0.73      0.75      0.74        96\n",
      "           1       0.54      0.52      0.53        54\n",
      "\n",
      "    accuracy                           0.67       150\n",
      "   macro avg       0.64      0.63      0.64       150\n",
      "weighted avg       0.66      0.67      0.67       150\n",
      "              precision    recall  f1-score   support\n",
      "\n",
      "           0       0.86      0.75      0.80       110\n",
      "           1       0.49      0.65      0.56        40\n",
      "\n",
      "    accuracy                           0.73       150\n",
      "   macro avg       0.67      0.70      0.68       150\n",
      "weighted avg       0.76      0.73      0.74       150\n",
      "\n"
     ]
    }
   ],
   "source": [
    "print(\"Printing for each k the corresponding report of each data set\")\n",
    "for i in range(0, 3):\n",
    "    print(report_train[i] + report_val[i] + report_test[i] )"
   ]
  },
  {
   "cell_type": "markdown",
   "metadata": {},
   "source": [
    "Plotting"
   ]
  },
  {
   "cell_type": "code",
   "execution_count": null,
   "metadata": {},
   "outputs": [
    {
     "name": "stderr",
     "output_type": "stream",
     "text": [
      "C:\\Users\\Thanaa Jaradat\\AppData\\Local\\Programs\\Python\\Python310\\lib\\site-packages\\sklearn\\base.py:450: UserWarning: X does not have valid feature names, but KNeighborsClassifier was fitted with feature names\n",
      "  warnings.warn(\n"
     ]
    },
    {
     "data": {
      "image/png": "[encoded data removed]",
      "text/plain": [
       "<Figure size 432x288 with 1 Axes>"
      ]
     },
     "metadata": {
      "needs_background": "light"
     },
     "output_type": "display_data"
    }
   ],
   "source": [
    "\n",
    "X_s_df = X_prime_train[['Plas', 'mass']] \n",
    "y_s = y_prime_train\n",
    "knn_plot_classifier = KNeighborsClassifier(n_neighbors=3)\n",
    "knn_plot_classifier.fit(X_s_df, y_s)\n",
    "\n",
    "# converting 2-feature dataframe to a numpy array \n",
    "X_s = X_s_df.values\n",
    "X1, X2 = np.meshgrid(np.arange(start = X_s[:, 0].min() - 1, stop = X_s[:, 0].max() + 1, step = 1),\n",
    "                     np.arange(start = X_s[:, 1].min() - 1, stop = X_s[:, 1].max() + 1, step = 0.5))\n",
    "\n",
    "plt.contourf(X1, X2, knn_plot_classifier.predict(np.array([X1.ravel(), X2.ravel()]).T).reshape(X1.shape),\n",
    "             alpha = 0.75, cmap = ListedColormap(('salmon', 'dodgerblue')))\n",
    "\n",
    "plt.xlim(X1.min(), X1.max())\n",
    "plt.ylim(X2.min(), X2.max())\n",
    "\n",
    "for i, j in enumerate(np.unique(y_s)):\n",
    "    plt.scatter(X_s[y_s == j, 0], X_s[y_s == j, 1],\n",
    "                color = ListedColormap(('red', 'blue'))(i), label = j)\n",
    "\n",
    "plt.title('K-NN (Training Set Visualization)')\n",
    "plt.xlabel('Plasma Glucose Concentration (Plas)')\n",
    "plt.ylabel('Body Mass Index (mass)')\n",
    "plt.legend()\n",
    "plt.tight_layout()\n",
    "plt.show()"
   ]
  }
 ],
 "metadata": {
  "kernelspec": {
   "display_name": "base",
   "language": "python",
   "name": "python3"
  },
  "language_info": {
   "codemirror_mode": {
    "name": "ipython",
    "version": 3
   },
   "file_extension": ".py",
   "mimetype": "text/x-python",
   "name": "python",
   "nbconvert_exporter": "python",
   "pygments_lexer": "ipython3",
   "version": "3.9.12"
  }
 },
 "nbformat": 4,
 "nbformat_minor": 1
}
